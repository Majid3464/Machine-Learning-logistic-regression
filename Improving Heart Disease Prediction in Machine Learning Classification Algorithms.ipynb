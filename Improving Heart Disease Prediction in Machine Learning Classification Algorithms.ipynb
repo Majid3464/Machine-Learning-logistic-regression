{
 "cells": [
  {
   "cell_type": "markdown",
   "metadata": {},
   "source": [
    "# Improving Heart Disease Prediction in Machine Learning Classification Algorithms\n"
   ]
  },
  {
   "cell_type": "markdown",
   "metadata": {},
   "source": [
    "### Abstract: \n",
    "In this article, two Logistic Regression algorithms, one using the polynomial basis\n",
    "and the other using a wavelet basis are trained to improve the prediction of heart disease.\n",
    "The results of the comparison of the models show that the wavelet method is more efficient and\n",
    "can make a much better prediction.\n",
    "\n",
    "I should mention that this wavelet method also improves the prediction of other classification algorithms \n",
    "in machine learning using the polynomial basis, such as Softmax classifier, Support vector machine, Neural networks, etc.\n",
    "\n",
    "Keywords: Machine Learning, Logistic Regression, Haar Wavelet, Heart Disease."
   ]
  },
  {
   "cell_type": "markdown",
   "metadata": {},
   "source": [
    "## Table of Contents\n",
    "#### 1- Logistic Regression Using Polynomial Basis\n",
    "    1.1 Sigmoid Function\n",
    "    1.2 Cost Function\n",
    "    1.3 Gradient Descent\n",
    "#### 2. Wavelet Method\n",
    "    2.1. Haar Wavelet\n",
    "    2.2 Cost Function and Gradient Descent for Haar Wavelet Method\n",
    "#### 3. Implementation in Python\n",
    "    3.1 Data Engineering and ETL\n",
    "    3.2 Data visualization and Outliers\n",
    "    3.3 Correlations\n",
    "    3.4 Training the First Model\n",
    "    3.5 Wavelet Method\n",
    "    3.6 Conclusions"
   ]
  },
  {
   "cell_type": "markdown",
   "metadata": {},
   "source": [
    "## 1- Logistic Regression Using Polynomial Basis"
   ]
  },
  {
   "cell_type": "markdown",
   "metadata": {},
   "source": [
    "In this section, we discusses the basics of Logistic Regression using polynomial basis.\n",
    "Logistic regression is basically a supervised classification algorithm.\n",
    "In a classification problem, the target variable(or output), y, can take\n",
    "only discrete values for given set of features(or inputs), X. The model builds\n",
    "a regression model to predict the probability that a given data entry belongs to the category numbered as “1”. \n",
    "Just like Linear regression assumes that the data follows a linear function, Logistic regression models the \n",
    "data using the sigmoid function."
   ]
  },
  {
   "cell_type": "markdown",
   "metadata": {},
   "source": [
    "### 1.1 Sigmoid Function"
   ]
  },
  {
   "cell_type": "markdown",
   "metadata": {},
   "source": [
    "Sigmoid function is represented as follows:"
   ]
  },
  {
   "cell_type": "markdown",
   "metadata": {},
   "source": [
    "$$Sigm(x)=\\frac{1}{1+e^{-x}}.$$"
   ]
  },
  {
   "cell_type": "markdown",
   "metadata": {},
   "source": [
    "The output of the Sigmoid function ranges from 0 to 1. Logistic regression uses an equation as the representation, \n",
    "very much like linear regression. Input values (X) are combined linearly using weights or coefficient values to predict\n",
    "an output value (y). A key difference from linear regression is that the output value being modeled is\n",
    "a binary value (0 or 1) rather than a numeric value. As we know, a Linear Regression model can be represented by the following equation:\n",
    "$$ l_{\\omega}(x)=\\omega_{0}+\\omega_{1}x,$$\n",
    "where $ \\ x \\in X$ and $\\omega=(\\omega_{0},\\omega_{1})$ is the parameter vector, which is supposed to be obtained.\n",
    "\n",
    "Applying the sigmoid function to the output of the linear regression, we get\n",
    "$$ h_{\\omega}(x)=Sigm(\\omega_{0}+\\omega_{1}x)=\\frac{1}{e^{-(\\omega_{0}+\\omega_{1}x)}}.$$\n",
    "By adding a column of the unit values to the matrix X, $h_{\\omega}$ has the following matrix form:\n",
    "$$ h_{\\omega}(X)=\\frac{1}{e^{-Xw^{T}}}.$$\n",
    "\n",
    "Our aim is to obtain the best parameter vector $\\omega$, such that for a given input  $x \\in X$ we can predict whether x belongs to class 1(y=1) or not.\n",
    "For such optimal parameter vector $\\omega$, if $h_{\\omega}(x)>0.5$, we say that x belongs to class 1 and if $h_{\\omega}(x)\\leq 0.5$, x belongs to class 0."
   ]
  },
  {
   "cell_type": "markdown",
   "metadata": {},
   "source": [
    "### 1.2 Cost Function"
   ]
  },
  {
   "cell_type": "markdown",
   "metadata": {},
   "source": [
    "To obtain the best value for  parameter vector $\\omega$, we use a cost(loss) function J, such that $\\omega$ minimizes J.\n",
    "Since the output y only takes the values 0,1, it has a Bernoulli distribution. So, we assume\n",
    "$$ p(y=1\\vert x_{i}, \\omega)=h_{\\omega}(x_{i}), \\ \\ \\ \\ x_{i} \\in X, \\ i=1,..., m$$\n",
    "and\n",
    "$$ p(y=0\\vert x_{i}, \\omega)=1-h_{\\omega}(x_{i}).$$\n",
    "In fact\n",
    "$$ p(y\\vert x_{i}, \\omega)= h_{\\omega}(x_{i})^{y}(1-h_{\\omega}(x_{i}))^{1-y}, \\ \\ \\ \\ \\ y\\in \\lbrace 0,1\\rbrace.$$\n",
    "The likelihood function for above distribution is defined as follows:\n",
    "$$L(\\omega)=p(Y\\vert X, \\omega)=\\prod_{i=1}^{m}p(y_{i}\\vert x_{i}, \\omega)=\\prod_{i=1}^{m} h_{\\omega}(x_{i})^{y_{i}}(1-h_{\\omega}(x_{i}))^{1-y_{i}}.$$\n",
    "We are looking for $\\omega$ that maximizes the above likelihood function. \n",
    "This is equivalent to saying that we are looking for $\\omega$ that maximizes  $log(L(\\omega))$.\n",
    "So, let\n",
    "$$M(\\omega)=log(L(\\omega))=\\sum_{i=1}^{m} y_{i} log(h_{\\omega}(x_{i}))+(1-y_{i})log(1-h_{\\omega}(x_{i})),$$\n",
    "this method is called maximum likelihood estimation.\n",
    "\n",
    "Now, using $M(\\omega)$ we can define the cost function as follows:\n",
    "$$J(\\omega)=-\\sum_{i=1}^{m} y_{i} log(h_{\\omega}(x_{i}))-(1-y_{i})log(1-h_{\\omega}(x_{i})),$$\n",
    "in other words, if $\\omega$ minimizes J, it maximizes M. The function J is called binary cross entropy loss function.\n",
    "\n",
    "Since, I am going to do regularization to contorol the value of $\\omega$, I add a regularization term to J and then for simplification I use the mean.\n",
    "So,\n",
    "$$J(w)=-\\frac{1}{m}\\sum_{i=1}^{m} y_{i} log(h_{\\omega}(x_{i}))-(1-y_{i})log(1-h_{\\omega}(x_{i}))+\\frac{\\lambda}{2}\\omega\\omega^{T},$$\n",
    "wher $\\lambda$ is the penalty term or regularization parameter, which determines how much to penalize the  parameter $\\omega$.\n",
    "When $\\lambda$ is zero then the regularization term becomes zero. We are back to the original loss function.\n",
    "\n",
    "The matrix form of J is as follows:\n",
    "    $$J(w)=-\\frac{1}{m} y log(h_{\\omega}(X))-(1-y)log(1-h_{\\omega}(X))+\\frac{\\lambda}{2} \\omega\\omega^{T}.$$\n"
   ]
  },
  {
   "cell_type": "markdown",
   "metadata": {},
   "source": [
    "### 1.3 Gradient Descent"
   ]
  },
  {
   "cell_type": "markdown",
   "metadata": {},
   "source": [
    "Gradient Descent is the process of minimizing a function by following the gradient of the function.\n",
    "This involves knowing the form of the function as well as the derivative so that from a given point you know\n",
    "the gradient and can move in that direction, e.g. downhill towards the minimum value. \n",
    "I am going to use the Gradient Descent method to minimize the above cost function J. \n",
    "\n",
    "Gradient Descent has the following formula:\n",
    "$$\\omega_{j+1} =\\omega_{j} -\\alpha \\frac{\\partial J(\\omega_{j})}{\\omega_{j}}, \\ \\ \\ \\ j=0,1,...\\ \\ \\ \\ \\text{repeat until convergence,}$$\n",
    "where $\\alpha$ is called learning rate and $\\omega_{0}$ is given by us. The learning rate controls \n",
    "how quickly $\\omega_{j}$ goes towards the optimal parameter $\\omega$.\n",
    "For the cost function $J$ we have,\n",
    "$$\\frac{\\partial J(\\omega_{j})}{\\omega_{j}}=\\frac{1}{m}\\sum_{i=1}^{m}  (h_{w_{j}}(x_{i})-y_{i})x_{i}+\\lambda w_{j}$$\n",
    "and then\n",
    "$$\\omega_{j+1} =\\omega_{j} -\\alpha \\big(\\frac{1}{m}\\sum_{i=1}^{m}  (h_{w_{j}}(x_{i})-y_{i})x_{i}+\\lambda w_{j}\\big),\\ \\  \\ \\text{repeat until convergence.}$$\n",
    "\n",
    "\n",
    "When we obtained  $\\omega$, using the function $h_{\\omega}$ we can do the prediction for a new input x."
   ]
  },
  {
   "cell_type": "markdown",
   "metadata": {},
   "source": [
    "## 2. Wavelet Method"
   ]
  },
  {
   "cell_type": "markdown",
   "metadata": {},
   "source": [
    "In mathematics, the Haar wavelet is a sequence of rescaled \"square-shaped\" functions which together\n",
    "form a wavelet family or basis. Wavelet analysis is similar to Fourier analysis in that it allows a\n",
    "target function over an interval to be represented in terms of an orthonormal basis.\n",
    "The Haar sequence is now recognized as the first known wavelet basis."
   ]
  },
  {
   "cell_type": "markdown",
   "metadata": {},
   "source": [
    "### 2.1 Haar Wavelet "
   ]
  },
  {
   "cell_type": "markdown",
   "metadata": {},
   "source": [
    "The Haar wavelet family on $[0,1]$  is as follows:\n",
    "\\begin{equation}\n",
    "  h_{i}(x)=\\begin{cases}\n",
    "    1 & \\text{if} \\ \\ x \\in\\ [\\lambda_{1}, \\lambda_{2})\\\\\n",
    "    -1 & \\text{if}\\ \\ x \\in\\ (\\lambda_{2}, \\lambda_{3}]\\\\\n",
    "    0 & \\text{otherwise},\n",
    "  \\end{cases}\n",
    "\\end{equation}\n",
    "such that\n",
    "$$\\lambda_{1}=\\frac{k}{m},\\quad\\lambda_{2}=\\frac{(k+\\frac{1}{2})}{m},\\quad\\lambda_{3}=\\frac{(k+1)}{m},$$ \n",
    " and $m=2^{j}; j=0,1,...,J$ indicates the level of the wavelet; and $ k=0,1,...,m-1 $ is the translation parameter. \n",
    "The index $i$ is calculated according to the formula $ i=m+k+1.$ In the case $m=1$ and $k=0$, \n",
    "we have $i=2$ and  the maximal value of $i$ is $2M$ where $M=2^{J}.$ \n",
    "It is assumed that the value $i = 1$ corresponds to the scaling function for which $h_{1}(x)=1$ for $x\\in[0,1]$."
   ]
  },
  {
   "cell_type": "markdown",
   "metadata": {},
   "source": [
    "### 2.2 Cost Function and Gradient Descent for Haar Wavelet Method"
   ]
  },
  {
   "cell_type": "markdown",
   "metadata": {},
   "source": [
    "In the following, I am going to use the first two wavelet functions $h_{1}, h_{2}$ to solve a Logistic regression problem.\n",
    "In this method, a Linear Regression model can be represented by:\n",
    " $$ l_{\\omega}(x)=\\omega_{0}h_{1}(x)+\\omega_{1}h_{2}(x).$$\n",
    "Like polynomial method, applying the sigmoid function to the output of the linear regression, we get\n",
    "$$ h_{\\omega}(x)=Sigm(\\omega_{0}h_{1}(x)+\\omega_{1}h_{2}(x))=\\frac{1}{e^{-(\\omega_{0}h_{1}(x)+\\omega_{1}h_{2}(x))}}.$$\n",
    "                               \n",
    "The cost function and Gradient Descent formula for the Haar wavelet method are respectively as follows:                              \n",
    "$$J(w)=-\\frac{1}{m}\\sum_{i=1}^{m} y_{i} log(h_{\\omega}(x_{i}))-(1-y_{i})log(1-h_{\\omega}(x_{i}))+\\frac{\\lambda}{2}\\omega\\omega_{T}$$\n",
    "and\n",
    "$$\\omega_{j+1} =\\omega_{j} -\\alpha [\\frac{1}{m}\\sum_{i=1}^{m}  (h_{\\omega_{j}}(x_{i})-y_{i})x_{i}+\\lambda \\omega_{j}],\\ \\  \\ \\text{repeat until convergence.}$$\n",
    "                        \n",
    "with this difference that in the above formulas\n",
    "$$ h_{\\omega}(x)=\\frac{1}{e^{-(\\omega_{0}h_{1}(x)+\\omega_{1}h_{2}(x))}}.$$"
   ]
  },
  {
   "cell_type": "markdown",
   "metadata": {},
   "source": [
    "In the following I am going to apply both methods to the Heart Disease Dataset to show that Haar wavelet method is\n",
    "more efficient to predict heart disease.\n",
    "This data set dates from 1988 and consists of four databases: Cleveland, Hungary, Switzerland, and Long Beach V.\n",
    "It contains 76 attributes, including the predicted attribute, but all published experiments refer to using a subset\n",
    "of 14 of them. The \"target\" field refers to the presence of heart disease in the patient.\n",
    "It is integer valued 0 = no disease and 1 = disease."
   ]
  },
  {
   "cell_type": "markdown",
   "metadata": {},
   "source": [
    "## 3. Implementation in Python   "
   ]
  },
  {
   "cell_type": "markdown",
   "metadata": {},
   "source": [
    "### 3.1 Data Engineering and ETL"
   ]
  },
  {
   "cell_type": "code",
   "execution_count": 1,
   "metadata": {},
   "outputs": [],
   "source": [
    "# libraries for ETL\n",
    "import pandas as pd\n",
    "import numpy as np\n",
    "# libraries for visualization\n",
    "import seaborn as sns\n",
    "import matplotlib.pyplot as plt\n",
    "# ignore warnings\n",
    "import warnings\n",
    "warnings.filterwarnings(action='ignore')"
   ]
  },
  {
   "cell_type": "code",
   "execution_count": 2,
   "metadata": {},
   "outputs": [],
   "source": [
    "data=pd.read_csv(\"C:\\\\Users\\\\Majid1\\\\Desktop\\\\Jupeyetr\\\\Github\\\\Nueral Networks\\\\heart.csv\")\n",
    "# Loading the dta using pandas"
   ]
  },
  {
   "cell_type": "code",
   "execution_count": 3,
   "metadata": {},
   "outputs": [
    {
     "name": "stdout",
     "output_type": "stream",
     "text": [
      "The number of columns in data frame = 14\n",
      "The number of rows data frame = 303\n"
     ]
    }
   ],
   "source": [
    "print('The number of columns in data frame =', data.shape[1])\n",
    "\n",
    "print('The number of rows data frame =', data.shape[0])"
   ]
  },
  {
   "cell_type": "code",
   "execution_count": 4,
   "metadata": {},
   "outputs": [
    {
     "data": {
      "text/html": [
       "<div>\n",
       "<style scoped>\n",
       "    .dataframe tbody tr th:only-of-type {\n",
       "        vertical-align: middle;\n",
       "    }\n",
       "\n",
       "    .dataframe tbody tr th {\n",
       "        vertical-align: top;\n",
       "    }\n",
       "\n",
       "    .dataframe thead th {\n",
       "        text-align: right;\n",
       "    }\n",
       "</style>\n",
       "<table border=\"1\" class=\"dataframe\">\n",
       "  <thead>\n",
       "    <tr style=\"text-align: right;\">\n",
       "      <th></th>\n",
       "      <th>age</th>\n",
       "      <th>sex</th>\n",
       "      <th>cp</th>\n",
       "      <th>trestbps</th>\n",
       "      <th>chol</th>\n",
       "      <th>fbs</th>\n",
       "      <th>restecg</th>\n",
       "      <th>thalach</th>\n",
       "      <th>exang</th>\n",
       "      <th>oldpeak</th>\n",
       "      <th>slope</th>\n",
       "      <th>ca</th>\n",
       "      <th>thal</th>\n",
       "      <th>target</th>\n",
       "    </tr>\n",
       "  </thead>\n",
       "  <tbody>\n",
       "    <tr>\n",
       "      <th>0</th>\n",
       "      <td>63</td>\n",
       "      <td>1</td>\n",
       "      <td>3</td>\n",
       "      <td>145</td>\n",
       "      <td>233</td>\n",
       "      <td>1</td>\n",
       "      <td>0</td>\n",
       "      <td>150</td>\n",
       "      <td>0</td>\n",
       "      <td>2.3</td>\n",
       "      <td>0</td>\n",
       "      <td>0</td>\n",
       "      <td>1</td>\n",
       "      <td>1</td>\n",
       "    </tr>\n",
       "    <tr>\n",
       "      <th>1</th>\n",
       "      <td>37</td>\n",
       "      <td>1</td>\n",
       "      <td>2</td>\n",
       "      <td>130</td>\n",
       "      <td>250</td>\n",
       "      <td>0</td>\n",
       "      <td>1</td>\n",
       "      <td>187</td>\n",
       "      <td>0</td>\n",
       "      <td>3.5</td>\n",
       "      <td>0</td>\n",
       "      <td>0</td>\n",
       "      <td>2</td>\n",
       "      <td>1</td>\n",
       "    </tr>\n",
       "    <tr>\n",
       "      <th>2</th>\n",
       "      <td>41</td>\n",
       "      <td>0</td>\n",
       "      <td>1</td>\n",
       "      <td>130</td>\n",
       "      <td>204</td>\n",
       "      <td>0</td>\n",
       "      <td>0</td>\n",
       "      <td>172</td>\n",
       "      <td>0</td>\n",
       "      <td>1.4</td>\n",
       "      <td>2</td>\n",
       "      <td>0</td>\n",
       "      <td>2</td>\n",
       "      <td>1</td>\n",
       "    </tr>\n",
       "    <tr>\n",
       "      <th>3</th>\n",
       "      <td>56</td>\n",
       "      <td>1</td>\n",
       "      <td>1</td>\n",
       "      <td>120</td>\n",
       "      <td>236</td>\n",
       "      <td>0</td>\n",
       "      <td>1</td>\n",
       "      <td>178</td>\n",
       "      <td>0</td>\n",
       "      <td>0.8</td>\n",
       "      <td>2</td>\n",
       "      <td>0</td>\n",
       "      <td>2</td>\n",
       "      <td>1</td>\n",
       "    </tr>\n",
       "    <tr>\n",
       "      <th>4</th>\n",
       "      <td>57</td>\n",
       "      <td>0</td>\n",
       "      <td>0</td>\n",
       "      <td>120</td>\n",
       "      <td>354</td>\n",
       "      <td>0</td>\n",
       "      <td>1</td>\n",
       "      <td>163</td>\n",
       "      <td>1</td>\n",
       "      <td>0.6</td>\n",
       "      <td>2</td>\n",
       "      <td>0</td>\n",
       "      <td>2</td>\n",
       "      <td>1</td>\n",
       "    </tr>\n",
       "  </tbody>\n",
       "</table>\n",
       "</div>"
      ],
      "text/plain": [
       "   age  sex  cp  trestbps  chol  fbs  restecg  thalach  exang  oldpeak  slope  \\\n",
       "0   63    1   3       145   233    1        0      150      0      2.3      0   \n",
       "1   37    1   2       130   250    0        1      187      0      3.5      0   \n",
       "2   41    0   1       130   204    0        0      172      0      1.4      2   \n",
       "3   56    1   1       120   236    0        1      178      0      0.8      2   \n",
       "4   57    0   0       120   354    0        1      163      1      0.6      2   \n",
       "\n",
       "   ca  thal  target  \n",
       "0   0     1       1  \n",
       "1   0     2       1  \n",
       "2   0     2       1  \n",
       "3   0     2       1  \n",
       "4   0     2       1  "
      ]
     },
     "execution_count": 4,
     "metadata": {},
     "output_type": "execute_result"
    }
   ],
   "source": [
    "data.head(5)"
   ]
  },
  {
   "cell_type": "markdown",
   "metadata": {},
   "source": [
    "Attribute Information: \n",
    "\n",
    "1. age \n",
    "    \n",
    "2. sex \n",
    "\n",
    "3. chest pain type (4 values) \n",
    "\n",
    "4. resting blood pressure \n",
    "\n",
    "5. serum cholestoral in mg/dl \n",
    "\n",
    "6. fasting blood sugar > 120 mg/dl \n",
    "\n",
    "7. resting electrocardiographic results (values 0,1,2) \n",
    "\n",
    "8. maximum heart rate achieved \n",
    "\n",
    "9. exercise induced angina \n",
    "\n",
    "10. oldpeak = ST depression induced by exercise relative to rest \n",
    "\n",
    "11. the slope of the peak exercise ST segment \n",
    "\n",
    "12. number of major vessels (0-3) colored by flourosopy \n",
    "\n",
    "13. thal: 0 = normal; 1 = fixed defect; 2 = reversable defect\n",
    "\n",
    "14. target1 or 0\n"
   ]
  },
  {
   "cell_type": "code",
   "execution_count": 5,
   "metadata": {},
   "outputs": [
    {
     "name": "stdout",
     "output_type": "stream",
     "text": [
      "<class 'pandas.core.frame.DataFrame'>\n",
      "RangeIndex: 303 entries, 0 to 302\n",
      "Data columns (total 14 columns):\n",
      "age         303 non-null int64\n",
      "sex         303 non-null int64\n",
      "cp          303 non-null int64\n",
      "trestbps    303 non-null int64\n",
      "chol        303 non-null int64\n",
      "fbs         303 non-null int64\n",
      "restecg     303 non-null int64\n",
      "thalach     303 non-null int64\n",
      "exang       303 non-null int64\n",
      "oldpeak     303 non-null float64\n",
      "slope       303 non-null int64\n",
      "ca          303 non-null int64\n",
      "thal        303 non-null int64\n",
      "target      303 non-null int64\n",
      "dtypes: float64(1), int64(13)\n",
      "memory usage: 33.2 KB\n"
     ]
    }
   ],
   "source": [
    "data.info(verbose=True, null_counts=True)"
   ]
  },
  {
   "cell_type": "markdown",
   "metadata": {},
   "source": [
    "It's good, we don't have any missing data in Data Frame."
   ]
  },
  {
   "cell_type": "markdown",
   "metadata": {},
   "source": [
    "### 3.2 Data visualization and Outliers"
   ]
  },
  {
   "cell_type": "markdown",
   "metadata": {},
   "source": [
    "The distribution of the data."
   ]
  },
  {
   "cell_type": "code",
   "execution_count": 6,
   "metadata": {},
   "outputs": [],
   "source": [
    "def trim_axs(axs, N):\n",
    "    \"\"\"little helper to massage the axs list to have correct length.\"\"\"\n",
    "    axs = axs.flat\n",
    "    for ax in axs[N:]:\n",
    "        ax.remove()\n",
    "    return axs[:N]"
   ]
  },
  {
   "cell_type": "code",
   "execution_count": 7,
   "metadata": {},
   "outputs": [],
   "source": [
    "# using different colours in plots\n",
    "colors= ['C{}'.format(i) for i in range(14)]"
   ]
  },
  {
   "cell_type": "code",
   "execution_count": 8,
   "metadata": {},
   "outputs": [
    {
     "data": {
      "image/png": "[encoded data removed]",
      "text/plain": [
       "<Figure size 1440x432 with 14 Axes>"
      ]
     },
     "metadata": {
      "needs_background": "light"
     },
     "output_type": "display_data"
    }
   ],
   "source": [
    "fig,axs=plt.subplots(2,7, figsize=(20,6))\n",
    "axs = trim_axs(axs, len(data.columns))\n",
    "for c, color, ax in zip(data.columns, colors, axs):\n",
    "    ax.hist(data[c], bins=50, color=color)\n",
    "    ax.set_title(c)\n",
    "plt.show()"
   ]
  },
  {
   "cell_type": "markdown",
   "metadata": {},
   "source": [
    "The distribution of data tells us some features have outliers. To detect outliers, I use seaborn boxplot."
   ]
  },
  {
   "cell_type": "code",
   "execution_count": 10,
   "metadata": {},
   "outputs": [
    {
     "data": {
      "text/plain": [
       "<matplotlib.axes._subplots.AxesSubplot at 0x7d9096b5c0>"
      ]
     },
     "execution_count": 10,
     "metadata": {},
     "output_type": "execute_result"
    },
    {
     "data": {
      "image/png": "[encoded data removed]",
      "text/plain": [
       "<Figure size 432x288 with 1 Axes>"
      ]
     },
     "metadata": {
      "needs_background": "light"
     },
     "output_type": "display_data"
    }
   ],
   "source": [
    "sns.boxplot(x=data[\"age\"],color=\"C0\")"
   ]
  },
  {
   "cell_type": "markdown",
   "metadata": {},
   "source": [
    "This shows us, there are no outliers in the age column."
   ]
  },
  {
   "cell_type": "code",
   "execution_count": 11,
   "metadata": {},
   "outputs": [
    {
     "data": {
      "text/plain": [
       "<matplotlib.axes._subplots.AxesSubplot at 0x7d90994748>"
      ]
     },
     "execution_count": 11,
     "metadata": {},
     "output_type": "execute_result"
    },
    {
     "data": {
      "image/png": "[encoded data removed]",
      "text/plain": [
       "<Figure size 432x288 with 1 Axes>"
      ]
     },
     "metadata": {
      "needs_background": "light"
     },
     "output_type": "display_data"
    }
   ],
   "source": [
    "sns.boxplot(x=data[\"sex\"],color=\"C1\")"
   ]
  },
  {
   "cell_type": "markdown",
   "metadata": {},
   "source": [
    "No outliers in the sex column."
   ]
  },
  {
   "cell_type": "code",
   "execution_count": 12,
   "metadata": {},
   "outputs": [
    {
     "data": {
      "text/plain": [
       "<matplotlib.axes._subplots.AxesSubplot at 0x7d905ee940>"
      ]
     },
     "execution_count": 12,
     "metadata": {},
     "output_type": "execute_result"
    },
    {
     "data": {
      "image/png": "[encoded data removed]",
      "text/plain": [
       "<Figure size 432x288 with 1 Axes>"
      ]
     },
     "metadata": {
      "needs_background": "light"
     },
     "output_type": "display_data"
    }
   ],
   "source": [
    "sns.boxplot(x=data[\"cp\"], color=\"C2\")"
   ]
  },
  {
   "cell_type": "markdown",
   "metadata": {},
   "source": [
    "No outliers in the cp column."
   ]
  },
  {
   "cell_type": "code",
   "execution_count": 13,
   "metadata": {},
   "outputs": [
    {
     "data": {
      "text/plain": [
       "<matplotlib.axes._subplots.AxesSubplot at 0x7d90660940>"
      ]
     },
     "execution_count": 13,
     "metadata": {},
     "output_type": "execute_result"
    },
    {
     "data": {
      "image/png": "[encoded data removed]",
      "text/plain": [
       "<Figure size 432x288 with 1 Axes>"
      ]
     },
     "metadata": {
      "needs_background": "light"
     },
     "output_type": "display_data"
    }
   ],
   "source": [
    "sns.boxplot(x=data[\"trestbps\"], color=\"C3\")"
   ]
  },
  {
   "cell_type": "markdown",
   "metadata": {},
   "source": [
    "We have some outliers in the trestbps column, let's replace them by suitable values:"
   ]
  },
  {
   "cell_type": "code",
   "execution_count": 14,
   "metadata": {},
   "outputs": [],
   "source": [
    "Q25th=np.percentile(data[\"trestbps\"],25)\n",
    "Q75th=np.percentile(data[\"trestbps\"],75)\n",
    "IQR=Q75th-Q25th\n",
    "L=Q25th-IQR*1.5\n",
    "R=Q75th+IQR*1.5\n",
    "n=len(data[\"trestbps\"])\n",
    "\n",
    "\n",
    "for i in range(n):\n",
    "    if data[\"trestbps\"][i]<L:\n",
    "        data[\"trestbps\"].replace(data[\"trestbps\"][i], L, inplace=True)\n",
    "    if data[\"trestbps\"][i]>R:\n",
    "        data[\"trestbps\"].replace(data[\"trestbps\"][i], R, inplace=True)\n"
   ]
  },
  {
   "cell_type": "code",
   "execution_count": 15,
   "metadata": {},
   "outputs": [
    {
     "data": {
      "text/plain": [
       "<matplotlib.axes._subplots.AxesSubplot at 0x7d906b2ba8>"
      ]
     },
     "execution_count": 15,
     "metadata": {},
     "output_type": "execute_result"
    },
    {
     "data": {
      "image/png": "[encoded data removed]",
      "text/plain": [
       "<Figure size 432x288 with 1 Axes>"
      ]
     },
     "metadata": {
      "needs_background": "light"
     },
     "output_type": "display_data"
    }
   ],
   "source": [
    "# checking the column after replacement.\n",
    "sns.boxplot(x=data[\"trestbps\"], color=\"C3\")"
   ]
  },
  {
   "cell_type": "markdown",
   "metadata": {},
   "source": [
    "Now, it looks good!"
   ]
  },
  {
   "cell_type": "code",
   "execution_count": 16,
   "metadata": {},
   "outputs": [
    {
     "data": {
      "text/plain": [
       "<matplotlib.axes._subplots.AxesSubplot at 0x7d90722d30>"
      ]
     },
     "execution_count": 16,
     "metadata": {},
     "output_type": "execute_result"
    },
    {
     "data": {
      "image/png": "[encoded data removed]",
      "text/plain": [
       "<Figure size 432x288 with 1 Axes>"
      ]
     },
     "metadata": {
      "needs_background": "light"
     },
     "output_type": "display_data"
    }
   ],
   "source": [
    "sns.boxplot(x=data[\"chol\"], color=\"C4\")"
   ]
  },
  {
   "cell_type": "markdown",
   "metadata": {},
   "source": [
    "We have some outliers in \"chol\" column."
   ]
  },
  {
   "cell_type": "code",
   "execution_count": 17,
   "metadata": {},
   "outputs": [
    {
     "data": {
      "text/plain": [
       "<matplotlib.axes._subplots.AxesSubplot at 0x7d907821d0>"
      ]
     },
     "execution_count": 17,
     "metadata": {},
     "output_type": "execute_result"
    },
    {
     "data": {
      "image/png": "[encoded data removed]",
      "text/plain": [
       "<Figure size 432x288 with 1 Axes>"
      ]
     },
     "metadata": {
      "needs_background": "light"
     },
     "output_type": "display_data"
    }
   ],
   "source": [
    "Q25th=np.percentile(data[\"chol\"],25)\n",
    "Q75th=np.percentile(data[\"chol\"],75)\n",
    "IQR=Q75th-Q25th\n",
    "L=Q25th-IQR*1.5\n",
    "R=Q75th+IQR*1.5\n",
    "n=len(data[\"chol\"])\n",
    "\n",
    "for i in range(n):\n",
    "    if data[\"chol\"][i]<L:\n",
    "        data[\"chol\"].replace(data[\"chol\"][i], L, inplace=True)\n",
    "    if data[\"chol\"][i]>R:\n",
    "        data[\"chol\"].replace(data[\"chol\"][i], R, inplace=True)\n",
    "\n",
    "            \n",
    "        \n",
    "sns.boxplot(x=data[\"chol\"], color=\"C4\")"
   ]
  },
  {
   "cell_type": "markdown",
   "metadata": {},
   "source": [
    "No outlier!"
   ]
  },
  {
   "cell_type": "code",
   "execution_count": 18,
   "metadata": {},
   "outputs": [
    {
     "data": {
      "text/plain": [
       "<matplotlib.axes._subplots.AxesSubplot at 0x7d907dd198>"
      ]
     },
     "execution_count": 18,
     "metadata": {},
     "output_type": "execute_result"
    },
    {
     "data": {
      "image/png": "[encoded data removed]",
      "text/plain": [
       "<Figure size 432x288 with 1 Axes>"
      ]
     },
     "metadata": {
      "needs_background": "light"
     },
     "output_type": "display_data"
    }
   ],
   "source": [
    "sns.boxplot(x=data[\"fbs\"], color=\"C5\")"
   ]
  },
  {
   "cell_type": "code",
   "execution_count": 19,
   "metadata": {},
   "outputs": [
    {
     "data": {
      "text/plain": [
       "<matplotlib.axes._subplots.AxesSubplot at 0x7d90bad470>"
      ]
     },
     "execution_count": 19,
     "metadata": {},
     "output_type": "execute_result"
    },
    {
     "data": {
      "image/png": "[encoded data removed]",
      "text/plain": [
       "<Figure size 432x288 with 1 Axes>"
      ]
     },
     "metadata": {
      "needs_background": "light"
     },
     "output_type": "display_data"
    }
   ],
   "source": [
    "Q25th=np.percentile(data[\"fbs\"],25)\n",
    "Q75th=np.percentile(data[\"fbs\"],75)\n",
    "IQR=Q75th-Q25th\n",
    "L=Q25th-IQR*1.5\n",
    "R=Q75th+IQR*1.5\n",
    "n=len(data[\"fbs\"])\n",
    "\n",
    "for i in range(n):\n",
    "    if data[\"fbs\"][i]<L:\n",
    "        data[\"fbs\"].replace(data[\"fbs\"][i], L, inplace=True)\n",
    "    if data[\"fbs\"][i]>R:\n",
    "        data[\"fbs\"].replace(data[\"fbs\"][i], R, inplace=True)\n",
    "\n",
    "            \n",
    "        \n",
    "sns.boxplot(x=data[\"fbs\"], color=\"C5\")"
   ]
  },
  {
   "cell_type": "markdown",
   "metadata": {},
   "source": [
    "We can delete this column because all its values are zero."
   ]
  },
  {
   "cell_type": "code",
   "execution_count": 20,
   "metadata": {},
   "outputs": [
    {
     "data": {
      "text/plain": [
       "<matplotlib.axes._subplots.AxesSubplot at 0x7d90bf8160>"
      ]
     },
     "execution_count": 20,
     "metadata": {},
     "output_type": "execute_result"
    },
    {
     "data": {
      "image/png": "[encoded data removed]",
      "text/plain": [
       "<Figure size 432x288 with 1 Axes>"
      ]
     },
     "metadata": {
      "needs_background": "light"
     },
     "output_type": "display_data"
    }
   ],
   "source": [
    "sns.boxplot(x=data[\"restecg\"], color=\"C6\")"
   ]
  },
  {
   "cell_type": "markdown",
   "metadata": {},
   "source": [
    "Good!"
   ]
  },
  {
   "cell_type": "code",
   "execution_count": 21,
   "metadata": {},
   "outputs": [
    {
     "data": {
      "text/plain": [
       "<matplotlib.axes._subplots.AxesSubplot at 0x7d90c58048>"
      ]
     },
     "execution_count": 21,
     "metadata": {},
     "output_type": "execute_result"
    },
    {
     "data": {
      "image/png": "[encoded data removed]",
      "text/plain": [
       "<Figure size 432x288 with 1 Axes>"
      ]
     },
     "metadata": {
      "needs_background": "light"
     },
     "output_type": "display_data"
    }
   ],
   "source": [
    "sns.boxplot(x=data[\"thalach\"], color=\"C7\")"
   ]
  },
  {
   "cell_type": "code",
   "execution_count": 22,
   "metadata": {},
   "outputs": [
    {
     "data": {
      "text/plain": [
       "<matplotlib.axes._subplots.AxesSubplot at 0x7d90cb1c18>"
      ]
     },
     "execution_count": 22,
     "metadata": {},
     "output_type": "execute_result"
    },
    {
     "data": {
      "image/png": "[encoded data removed]",
      "text/plain": [
       "<Figure size 432x288 with 1 Axes>"
      ]
     },
     "metadata": {
      "needs_background": "light"
     },
     "output_type": "display_data"
    }
   ],
   "source": [
    "Q25th=np.percentile(data[\"thalach\"],25)\n",
    "Q75th=np.percentile(data[\"thalach\"],75)\n",
    "IQR=Q75th-Q25th\n",
    "L=Q25th-IQR*1.5\n",
    "R=Q75th+IQR*1.5\n",
    "n=len(data[\"thalach\"])\n",
    "\n",
    "for i in range(n):\n",
    "    if data[\"thalach\"][i]<L:\n",
    "        data[\"thalach\"].replace(data[\"thalach\"][i], L, inplace=True)\n",
    "    if data[\"thalach\"][i]>R:\n",
    "        data[\"thalach\"].replace(data[\"thalach\"][i], R, inplace=True)\n",
    "\n",
    "            \n",
    "        \n",
    "sns.boxplot(x=data[\"thalach\"], color=\"C7\")"
   ]
  },
  {
   "cell_type": "markdown",
   "metadata": {},
   "source": [
    "Very good!"
   ]
  },
  {
   "cell_type": "code",
   "execution_count": 23,
   "metadata": {},
   "outputs": [
    {
     "data": {
      "text/plain": [
       "<matplotlib.axes._subplots.AxesSubplot at 0x7d90d2c630>"
      ]
     },
     "execution_count": 23,
     "metadata": {},
     "output_type": "execute_result"
    },
    {
     "data": {
      "image/png": "[encoded data removed]",
      "text/plain": [
       "<Figure size 432x288 with 1 Axes>"
      ]
     },
     "metadata": {
      "needs_background": "light"
     },
     "output_type": "display_data"
    }
   ],
   "source": [
    "sns.boxplot(x=data[\"exang\"], color=\"C8\")"
   ]
  },
  {
   "cell_type": "markdown",
   "metadata": {},
   "source": [
    "Good!"
   ]
  },
  {
   "cell_type": "code",
   "execution_count": 24,
   "metadata": {},
   "outputs": [
    {
     "data": {
      "text/plain": [
       "<matplotlib.axes._subplots.AxesSubplot at 0x7d90d84278>"
      ]
     },
     "execution_count": 24,
     "metadata": {},
     "output_type": "execute_result"
    },
    {
     "data": {
      "image/png": "[encoded data removed]",
      "text/plain": [
       "<Figure size 432x288 with 1 Axes>"
      ]
     },
     "metadata": {
      "needs_background": "light"
     },
     "output_type": "display_data"
    }
   ],
   "source": [
    "sns.boxplot(x=data[\"oldpeak\"],color=\"C9\")"
   ]
  },
  {
   "cell_type": "markdown",
   "metadata": {},
   "source": [
    "For this column let's use another method, sqrt."
   ]
  },
  {
   "cell_type": "code",
   "execution_count": 25,
   "metadata": {},
   "outputs": [
    {
     "data": {
      "text/plain": [
       "<matplotlib.axes._subplots.AxesSubplot at 0x7d90de9c50>"
      ]
     },
     "execution_count": 25,
     "metadata": {},
     "output_type": "execute_result"
    },
    {
     "data": {
      "image/png": "[encoded data removed]",
      "text/plain": [
       "<Figure size 432x288 with 1 Axes>"
      ]
     },
     "metadata": {
      "needs_background": "light"
     },
     "output_type": "display_data"
    }
   ],
   "source": [
    "data[\"oldpeak\"]=np.sqrt(data[\"oldpeak\"])\n",
    "sns.boxplot(x=data[\"oldpeak\"], color=\"C9\")"
   ]
  },
  {
   "cell_type": "code",
   "execution_count": 26,
   "metadata": {},
   "outputs": [
    {
     "data": {
      "text/plain": [
       "<matplotlib.axes._subplots.AxesSubplot at 0x7d90e4a780>"
      ]
     },
     "execution_count": 26,
     "metadata": {},
     "output_type": "execute_result"
    },
    {
     "data": {
      "image/png": "[encoded data removed]",
      "text/plain": [
       "<Figure size 432x288 with 1 Axes>"
      ]
     },
     "metadata": {
      "needs_background": "light"
     },
     "output_type": "display_data"
    }
   ],
   "source": [
    "sns.boxplot(x=data[\"slope\"], color=\"C10\")"
   ]
  },
  {
   "cell_type": "code",
   "execution_count": 27,
   "metadata": {},
   "outputs": [
    {
     "data": {
      "text/plain": [
       "<matplotlib.axes._subplots.AxesSubplot at 0x7d90eb0588>"
      ]
     },
     "execution_count": 27,
     "metadata": {},
     "output_type": "execute_result"
    },
    {
     "data": {
      "image/png": "[encoded data removed]",
      "text/plain": [
       "<Figure size 432x288 with 1 Axes>"
      ]
     },
     "metadata": {
      "needs_background": "light"
     },
     "output_type": "display_data"
    }
   ],
   "source": [
    "sns.boxplot(x=data[\"ca\"], color=\"C11\")"
   ]
  },
  {
   "cell_type": "code",
   "execution_count": 28,
   "metadata": {},
   "outputs": [
    {
     "data": {
      "text/plain": [
       "<matplotlib.axes._subplots.AxesSubplot at 0x7d90f1dc88>"
      ]
     },
     "execution_count": 28,
     "metadata": {},
     "output_type": "execute_result"
    },
    {
     "data": {
      "image/png": "[encoded data removed]",
      "text/plain": [
       "<Figure size 432x288 with 1 Axes>"
      ]
     },
     "metadata": {
      "needs_background": "light"
     },
     "output_type": "display_data"
    }
   ],
   "source": [
    "Q25th=np.percentile(data[\"ca\"],25)\n",
    "Q75th=np.percentile(data[\"ca\"],75)\n",
    "IQR=Q75th-Q25th\n",
    "L=Q25th-IQR*1.5\n",
    "R=Q75th+IQR*1.5\n",
    "n=len(data[\"ca\"])\n",
    "\n",
    "for i in range(n):\n",
    "    if data[\"ca\"][i]<L:\n",
    "        data[\"ca\"].replace(data[\"ca\"][i], L, inplace=True)\n",
    "    if data[\"ca\"][i]>R:\n",
    "        data[\"ca\"].replace(data[\"ca\"][i], R, inplace=True)\n",
    "\n",
    "            \n",
    "        \n",
    "sns.boxplot(x=data[\"ca\"], color=\"C11\")"
   ]
  },
  {
   "cell_type": "code",
   "execution_count": 29,
   "metadata": {},
   "outputs": [
    {
     "data": {
      "text/plain": [
       "<matplotlib.axes._subplots.AxesSubplot at 0x7d90f82e10>"
      ]
     },
     "execution_count": 29,
     "metadata": {},
     "output_type": "execute_result"
    },
    {
     "data": {
      "image/png": "[encoded data removed]",
      "text/plain": [
       "<Figure size 432x288 with 1 Axes>"
      ]
     },
     "metadata": {
      "needs_background": "light"
     },
     "output_type": "display_data"
    }
   ],
   "source": [
    "sns.boxplot(x=data[\"thal\"], color=\"C12\")"
   ]
  },
  {
   "cell_type": "code",
   "execution_count": 30,
   "metadata": {},
   "outputs": [
    {
     "data": {
      "text/plain": [
       "<matplotlib.axes._subplots.AxesSubplot at 0x7d91fb6198>"
      ]
     },
     "execution_count": 30,
     "metadata": {},
     "output_type": "execute_result"
    },
    {
     "data": {
      "image/png": "[encoded data removed]",
      "text/plain": [
       "<Figure size 432x288 with 1 Axes>"
      ]
     },
     "metadata": {
      "needs_background": "light"
     },
     "output_type": "display_data"
    }
   ],
   "source": [
    "Q25th=np.percentile(data[\"thal\"],25)\n",
    "Q75th=np.percentile(data[\"thal\"],75)\n",
    "IQR=Q75th-Q25th\n",
    "L=Q25th-IQR*1.5\n",
    "R=Q75th+IQR*1.5\n",
    "n=len(data[\"thal\"])\n",
    "\n",
    "for i in range(n):\n",
    "    if data[\"thal\"][i]<L:\n",
    "        data[\"thal\"].replace(data[\"thal\"][i], L, inplace=True)\n",
    "    if data[\"thal\"][i]>R:\n",
    "        data[\"thal\"].replace(data[\"thal\"][i], R, inplace=True)\n",
    "\n",
    "            \n",
    "        \n",
    "sns.boxplot(x=data[\"thal\"], color=\"C12\")"
   ]
  },
  {
   "cell_type": "markdown",
   "metadata": {},
   "source": [
    "### 3.3 Correlation"
   ]
  },
  {
   "cell_type": "code",
   "execution_count": 41,
   "metadata": {},
   "outputs": [
    {
     "data": {
      "text/plain": [
       "<matplotlib.axes._subplots.AxesSubplot at 0xacc146a128>"
      ]
     },
     "execution_count": 41,
     "metadata": {},
     "output_type": "execute_result"
    },
    {
     "data": {
      "image/png": "[encoded data removed]",
      "text/plain": [
       "<Figure size 1008x720 with 2 Axes>"
      ]
     },
     "metadata": {
      "needs_background": "light"
     },
     "output_type": "display_data"
    }
   ],
   "source": [
    "plt.figure(figsize=(14,10))\n",
    "sns.heatmap(data.corr(), annot=True, cmap=\"hsv\", fmt=\".3f\",linewidths=2)"
   ]
  },
  {
   "cell_type": "markdown",
   "metadata": {},
   "source": [
    "The following Data Frame shows the correlation of each column with the target."
   ]
  },
  {
   "cell_type": "code",
   "execution_count": 31,
   "metadata": {},
   "outputs": [],
   "source": [
    "Correlation=[(c, data[c].corr(data['target'])) for c in data.columns]\n",
    "Corr=pd.DataFrame(Correlation, columns=[\"Column\", \"Corr with target\"])"
   ]
  },
  {
   "cell_type": "code",
   "execution_count": 32,
   "metadata": {},
   "outputs": [
    {
     "data": {
      "text/html": [
       "<div>\n",
       "<style scoped>\n",
       "    .dataframe tbody tr th:only-of-type {\n",
       "        vertical-align: middle;\n",
       "    }\n",
       "\n",
       "    .dataframe tbody tr th {\n",
       "        vertical-align: top;\n",
       "    }\n",
       "\n",
       "    .dataframe thead th {\n",
       "        text-align: right;\n",
       "    }\n",
       "</style>\n",
       "<table border=\"1\" class=\"dataframe\">\n",
       "  <thead>\n",
       "    <tr style=\"text-align: right;\">\n",
       "      <th></th>\n",
       "      <th>index</th>\n",
       "      <th>Column</th>\n",
       "      <th>Corr with target</th>\n",
       "    </tr>\n",
       "  </thead>\n",
       "  <tbody>\n",
       "    <tr>\n",
       "      <th>0</th>\n",
       "      <td>11</td>\n",
       "      <td>ca</td>\n",
       "      <td>-0.437369</td>\n",
       "    </tr>\n",
       "    <tr>\n",
       "      <th>1</th>\n",
       "      <td>8</td>\n",
       "      <td>exang</td>\n",
       "      <td>-0.436757</td>\n",
       "    </tr>\n",
       "    <tr>\n",
       "      <th>2</th>\n",
       "      <td>9</td>\n",
       "      <td>oldpeak</td>\n",
       "      <td>-0.419736</td>\n",
       "    </tr>\n",
       "    <tr>\n",
       "      <th>3</th>\n",
       "      <td>12</td>\n",
       "      <td>thal</td>\n",
       "      <td>-0.350974</td>\n",
       "    </tr>\n",
       "    <tr>\n",
       "      <th>4</th>\n",
       "      <td>1</td>\n",
       "      <td>sex</td>\n",
       "      <td>-0.280937</td>\n",
       "    </tr>\n",
       "    <tr>\n",
       "      <th>5</th>\n",
       "      <td>0</td>\n",
       "      <td>age</td>\n",
       "      <td>-0.225439</td>\n",
       "    </tr>\n",
       "    <tr>\n",
       "      <th>6</th>\n",
       "      <td>3</td>\n",
       "      <td>trestbps</td>\n",
       "      <td>-0.138621</td>\n",
       "    </tr>\n",
       "    <tr>\n",
       "      <th>7</th>\n",
       "      <td>4</td>\n",
       "      <td>chol</td>\n",
       "      <td>-0.103987</td>\n",
       "    </tr>\n",
       "    <tr>\n",
       "      <th>8</th>\n",
       "      <td>6</td>\n",
       "      <td>restecg</td>\n",
       "      <td>0.137230</td>\n",
       "    </tr>\n",
       "    <tr>\n",
       "      <th>9</th>\n",
       "      <td>10</td>\n",
       "      <td>slope</td>\n",
       "      <td>0.345877</td>\n",
       "    </tr>\n",
       "    <tr>\n",
       "      <th>10</th>\n",
       "      <td>7</td>\n",
       "      <td>thalach</td>\n",
       "      <td>0.422210</td>\n",
       "    </tr>\n",
       "    <tr>\n",
       "      <th>11</th>\n",
       "      <td>2</td>\n",
       "      <td>cp</td>\n",
       "      <td>0.433798</td>\n",
       "    </tr>\n",
       "    <tr>\n",
       "      <th>12</th>\n",
       "      <td>13</td>\n",
       "      <td>target</td>\n",
       "      <td>1.000000</td>\n",
       "    </tr>\n",
       "    <tr>\n",
       "      <th>13</th>\n",
       "      <td>5</td>\n",
       "      <td>fbs</td>\n",
       "      <td>NaN</td>\n",
       "    </tr>\n",
       "  </tbody>\n",
       "</table>\n",
       "</div>"
      ],
      "text/plain": [
       "    index    Column  Corr with target\n",
       "0      11        ca         -0.437369\n",
       "1       8     exang         -0.436757\n",
       "2       9   oldpeak         -0.419736\n",
       "3      12      thal         -0.350974\n",
       "4       1       sex         -0.280937\n",
       "5       0       age         -0.225439\n",
       "6       3  trestbps         -0.138621\n",
       "7       4      chol         -0.103987\n",
       "8       6   restecg          0.137230\n",
       "9      10     slope          0.345877\n",
       "10      7   thalach          0.422210\n",
       "11      2        cp          0.433798\n",
       "12     13    target          1.000000\n",
       "13      5       fbs               NaN"
      ]
     },
     "execution_count": 32,
     "metadata": {},
     "output_type": "execute_result"
    }
   ],
   "source": [
    "Corr.sort_values(\"Corr with target\", ascending=True).reset_index()"
   ]
  },
  {
   "cell_type": "markdown",
   "metadata": {},
   "source": [
    "Columns with most correlation:"
   ]
  },
  {
   "cell_type": "code",
   "execution_count": 33,
   "metadata": {},
   "outputs": [
    {
     "data": {
      "text/html": [
       "<div>\n",
       "<style scoped>\n",
       "    .dataframe tbody tr th:only-of-type {\n",
       "        vertical-align: middle;\n",
       "    }\n",
       "\n",
       "    .dataframe tbody tr th {\n",
       "        vertical-align: top;\n",
       "    }\n",
       "\n",
       "    .dataframe thead th {\n",
       "        text-align: right;\n",
       "    }\n",
       "</style>\n",
       "<table border=\"1\" class=\"dataframe\">\n",
       "  <thead>\n",
       "    <tr style=\"text-align: right;\">\n",
       "      <th></th>\n",
       "      <th>index</th>\n",
       "      <th>Column</th>\n",
       "      <th>Corr with target</th>\n",
       "    </tr>\n",
       "  </thead>\n",
       "  <tbody>\n",
       "    <tr>\n",
       "      <th>0</th>\n",
       "      <td>2</td>\n",
       "      <td>cp</td>\n",
       "      <td>0.433798</td>\n",
       "    </tr>\n",
       "    <tr>\n",
       "      <th>1</th>\n",
       "      <td>7</td>\n",
       "      <td>thalach</td>\n",
       "      <td>0.422210</td>\n",
       "    </tr>\n",
       "    <tr>\n",
       "      <th>2</th>\n",
       "      <td>8</td>\n",
       "      <td>exang</td>\n",
       "      <td>-0.436757</td>\n",
       "    </tr>\n",
       "    <tr>\n",
       "      <th>3</th>\n",
       "      <td>9</td>\n",
       "      <td>oldpeak</td>\n",
       "      <td>-0.419736</td>\n",
       "    </tr>\n",
       "    <tr>\n",
       "      <th>4</th>\n",
       "      <td>10</td>\n",
       "      <td>slope</td>\n",
       "      <td>0.345877</td>\n",
       "    </tr>\n",
       "    <tr>\n",
       "      <th>5</th>\n",
       "      <td>11</td>\n",
       "      <td>ca</td>\n",
       "      <td>-0.437369</td>\n",
       "    </tr>\n",
       "    <tr>\n",
       "      <th>6</th>\n",
       "      <td>12</td>\n",
       "      <td>thal</td>\n",
       "      <td>-0.350974</td>\n",
       "    </tr>\n",
       "    <tr>\n",
       "      <th>7</th>\n",
       "      <td>13</td>\n",
       "      <td>target</td>\n",
       "      <td>1.000000</td>\n",
       "    </tr>\n",
       "  </tbody>\n",
       "</table>\n",
       "</div>"
      ],
      "text/plain": [
       "   index   Column  Corr with target\n",
       "0      2       cp          0.433798\n",
       "1      7  thalach          0.422210\n",
       "2      8    exang         -0.436757\n",
       "3      9  oldpeak         -0.419736\n",
       "4     10    slope          0.345877\n",
       "5     11       ca         -0.437369\n",
       "6     12     thal         -0.350974\n",
       "7     13   target          1.000000"
      ]
     },
     "execution_count": 33,
     "metadata": {},
     "output_type": "execute_result"
    }
   ],
   "source": [
    "Corr[np.abs(Corr[\"Corr with target\"])>0.3].reset_index()"
   ]
  },
  {
   "cell_type": "markdown",
   "metadata": {},
   "source": [
    "In the following, I am going to use all columns, but one can just use the columns with most correlation. "
   ]
  },
  {
   "cell_type": "markdown",
   "metadata": {},
   "source": [
    "### 3.4 Training the First Model"
   ]
  },
  {
   "cell_type": "code",
   "execution_count": 68,
   "metadata": {},
   "outputs": [],
   "source": [
    "# data(X) and target(y)\n",
    "X=data.drop(columns=\"target\", axis=1)\n",
    "\n",
    "y=data[\"target\"]\n"
   ]
  },
  {
   "cell_type": "code",
   "execution_count": 69,
   "metadata": {},
   "outputs": [
    {
     "data": {
      "text/html": [
       "<div>\n",
       "<style scoped>\n",
       "    .dataframe tbody tr th:only-of-type {\n",
       "        vertical-align: middle;\n",
       "    }\n",
       "\n",
       "    .dataframe tbody tr th {\n",
       "        vertical-align: top;\n",
       "    }\n",
       "\n",
       "    .dataframe thead th {\n",
       "        text-align: right;\n",
       "    }\n",
       "</style>\n",
       "<table border=\"1\" class=\"dataframe\">\n",
       "  <thead>\n",
       "    <tr style=\"text-align: right;\">\n",
       "      <th></th>\n",
       "      <th>age</th>\n",
       "      <th>sex</th>\n",
       "      <th>cp</th>\n",
       "      <th>trestbps</th>\n",
       "      <th>chol</th>\n",
       "      <th>fbs</th>\n",
       "      <th>restecg</th>\n",
       "      <th>thalach</th>\n",
       "      <th>exang</th>\n",
       "      <th>oldpeak</th>\n",
       "      <th>slope</th>\n",
       "      <th>ca</th>\n",
       "      <th>thal</th>\n",
       "    </tr>\n",
       "  </thead>\n",
       "  <tbody>\n",
       "    <tr>\n",
       "      <th>0</th>\n",
       "      <td>63</td>\n",
       "      <td>1</td>\n",
       "      <td>3</td>\n",
       "      <td>145</td>\n",
       "      <td>233.0</td>\n",
       "      <td>0</td>\n",
       "      <td>0</td>\n",
       "      <td>150.0</td>\n",
       "      <td>0</td>\n",
       "      <td>1.516575</td>\n",
       "      <td>0</td>\n",
       "      <td>0.0</td>\n",
       "      <td>1.0</td>\n",
       "    </tr>\n",
       "    <tr>\n",
       "      <th>1</th>\n",
       "      <td>37</td>\n",
       "      <td>1</td>\n",
       "      <td>2</td>\n",
       "      <td>130</td>\n",
       "      <td>250.0</td>\n",
       "      <td>0</td>\n",
       "      <td>1</td>\n",
       "      <td>187.0</td>\n",
       "      <td>0</td>\n",
       "      <td>1.870829</td>\n",
       "      <td>0</td>\n",
       "      <td>0.0</td>\n",
       "      <td>2.0</td>\n",
       "    </tr>\n",
       "    <tr>\n",
       "      <th>2</th>\n",
       "      <td>41</td>\n",
       "      <td>0</td>\n",
       "      <td>1</td>\n",
       "      <td>130</td>\n",
       "      <td>204.0</td>\n",
       "      <td>0</td>\n",
       "      <td>0</td>\n",
       "      <td>172.0</td>\n",
       "      <td>0</td>\n",
       "      <td>1.183216</td>\n",
       "      <td>2</td>\n",
       "      <td>0.0</td>\n",
       "      <td>2.0</td>\n",
       "    </tr>\n",
       "    <tr>\n",
       "      <th>3</th>\n",
       "      <td>56</td>\n",
       "      <td>1</td>\n",
       "      <td>1</td>\n",
       "      <td>120</td>\n",
       "      <td>236.0</td>\n",
       "      <td>0</td>\n",
       "      <td>1</td>\n",
       "      <td>178.0</td>\n",
       "      <td>0</td>\n",
       "      <td>0.894427</td>\n",
       "      <td>2</td>\n",
       "      <td>0.0</td>\n",
       "      <td>2.0</td>\n",
       "    </tr>\n",
       "    <tr>\n",
       "      <th>4</th>\n",
       "      <td>57</td>\n",
       "      <td>0</td>\n",
       "      <td>0</td>\n",
       "      <td>120</td>\n",
       "      <td>354.0</td>\n",
       "      <td>0</td>\n",
       "      <td>1</td>\n",
       "      <td>163.0</td>\n",
       "      <td>1</td>\n",
       "      <td>0.774597</td>\n",
       "      <td>2</td>\n",
       "      <td>0.0</td>\n",
       "      <td>2.0</td>\n",
       "    </tr>\n",
       "  </tbody>\n",
       "</table>\n",
       "</div>"
      ],
      "text/plain": [
       "   age  sex  cp  trestbps   chol  fbs  restecg  thalach  exang   oldpeak  \\\n",
       "0   63    1   3       145  233.0    0        0    150.0      0  1.516575   \n",
       "1   37    1   2       130  250.0    0        1    187.0      0  1.870829   \n",
       "2   41    0   1       130  204.0    0        0    172.0      0  1.183216   \n",
       "3   56    1   1       120  236.0    0        1    178.0      0  0.894427   \n",
       "4   57    0   0       120  354.0    0        1    163.0      1  0.774597   \n",
       "\n",
       "   slope   ca  thal  \n",
       "0      0  0.0   1.0  \n",
       "1      0  0.0   2.0  \n",
       "2      2  0.0   2.0  \n",
       "3      2  0.0   2.0  \n",
       "4      2  0.0   2.0  "
      ]
     },
     "execution_count": 69,
     "metadata": {},
     "output_type": "execute_result"
    }
   ],
   "source": [
    "X.head(5)"
   ]
  },
  {
   "cell_type": "markdown",
   "metadata": {},
   "source": [
    "I am going to use \"sklearn.preprocessing.MinMaxScaler\" to change the range of features(columns)."
   ]
  },
  {
   "cell_type": "code",
   "execution_count": 70,
   "metadata": {},
   "outputs": [],
   "source": [
    "from sklearn.preprocessing import MinMaxScaler\n",
    "X=MinMaxScaler().fit_transform(X)"
   ]
  },
  {
   "cell_type": "code",
   "execution_count": 71,
   "metadata": {},
   "outputs": [],
   "source": [
    "X1=X\n",
    "n=X.shape[0]\n",
    "y=y.values\n",
    "I=np.ones(n)"
   ]
  },
  {
   "cell_type": "code",
   "execution_count": 72,
   "metadata": {},
   "outputs": [],
   "source": [
    "# Add a column of unit values to X\n",
    "X=np.column_stack((I, X))"
   ]
  },
  {
   "cell_type": "markdown",
   "metadata": {},
   "source": [
    "Sigmoid function"
   ]
  },
  {
   "cell_type": "code",
   "execution_count": 73,
   "metadata": {},
   "outputs": [],
   "source": [
    "def Sigm(X):\n",
    "    return (1/(1+(np.exp(-X))))"
   ]
  },
  {
   "cell_type": "code",
   "execution_count": 74,
   "metadata": {},
   "outputs": [
    {
     "data": {
      "text/plain": [
       "Text(0.5, 1.0, 'Sigmoid function')"
      ]
     },
     "execution_count": 74,
     "metadata": {},
     "output_type": "execute_result"
    },
    {
     "data": {
      "image/png": "[encoded data removed]",
      "text/plain": [
       "<Figure size 432x288 with 1 Axes>"
      ]
     },
     "metadata": {
      "needs_background": "light"
     },
     "output_type": "display_data"
    }
   ],
   "source": [
    "# an example to show Sigmoid function\n",
    "\n",
    "x=np.linspace(-10,10, 100)\n",
    "y1=Sigm(x)\n",
    "plt.plot(x,y1)\n",
    "plt.title(\"Sigmoid function\")"
   ]
  },
  {
   "cell_type": "code",
   "execution_count": 75,
   "metadata": {},
   "outputs": [],
   "source": [
    "def h1(X,W):      #h_w for the first model\n",
    "    return Sigm(X@(W.T))"
   ]
  },
  {
   "cell_type": "code",
   "execution_count": 76,
   "metadata": {},
   "outputs": [],
   "source": [
    "# Cost function for the first model\n",
    "def cost1(X,W,y, Lambda):\n",
    "    m = x.shape[0]  \n",
    "    return ((1/m)*np.sum(-y*np.log(h1(X,W))-(1-y)*np.log(1-h1(X,W))))+ (Lambda/2)*(W@W.T)"
   ]
  },
  {
   "cell_type": "code",
   "execution_count": 77,
   "metadata": {},
   "outputs": [],
   "source": [
    "def gradient1(X, y, W):     #gradient of the cost function for the first model \n",
    "    m = X.shape[0]\n",
    "    return ((1 / m) * X.T@(h1(X,W)- y))+Lambda*W"
   ]
  },
  {
   "cell_type": "code",
   "execution_count": 145,
   "metadata": {},
   "outputs": [],
   "source": [
    "#Gradient Descent for the first model\n",
    "l=100  #the number of updates\n",
    "W=np.zeros(X.shape[1]) # the starting W\n",
    "alpha=0.6   # learning rate\n",
    "Lambda=1   # penalty term\n",
    "\n",
    "c=np.zeros(l) # c,d are used for plotting the cost function\n",
    "d=np.zeros(l)\n",
    "\n",
    "for i in range(l):\n",
    "    W+=-alpha*gradient1(X, y, W)\n",
    "    c[i]=cost1(X,W,y, Lambda)\n",
    "    d[i]=i\n",
    "    "
   ]
  },
  {
   "cell_type": "code",
   "execution_count": 146,
   "metadata": {},
   "outputs": [
    {
     "name": "stdout",
     "output_type": "stream",
     "text": [
      "Parameter vector W= [ 0.0320238  -0.00318143 -0.03957846  0.07967505  0.00109282  0.00584315\n",
      "  0.          0.02529209  0.05587879 -0.08336404 -0.04162971  0.0715708\n",
      " -0.06448467 -0.01686326]\n"
     ]
    }
   ],
   "source": [
    "print(\"Parameter vector W=\", W)"
   ]
  },
  {
   "cell_type": "code",
   "execution_count": 148,
   "metadata": {},
   "outputs": [
    {
     "name": "stdout",
     "output_type": "stream",
     "text": [
      "The value of gradient at the obtained W is= [0. 0. 0. 0. 0. 0. 0. 0. 0. 0. 0. 0. 0. 0.]\n"
     ]
    }
   ],
   "source": [
    "print(\"The value of gradient at the obtained W is=\",gradient1(X, y, W))\n"
   ]
  },
  {
   "cell_type": "markdown",
   "metadata": {},
   "source": [
    "As it can be seen from the gradient, the obtained W is the optimal W. "
   ]
  },
  {
   "cell_type": "code",
   "execution_count": 149,
   "metadata": {},
   "outputs": [],
   "source": [
    "#prediction function\n",
    "y_pred1=np.zeros(303)\n",
    "for i in list(range(X.shape[0])):\n",
    "    if h1(X,W)[i]> 0.5:\n",
    "        y_pred1[i]=1\n",
    "    else:\n",
    "        y_pred1[i]=0\n",
    "# accuracy for the first model\n",
    "def accuracy1(y_pred1):\n",
    "    return np.mean(y==y_pred1)          "
   ]
  },
  {
   "cell_type": "code",
   "execution_count": 150,
   "metadata": {},
   "outputs": [
    {
     "name": "stdout",
     "output_type": "stream",
     "text": [
      "The value of cost function after minimization is 2.017710747798444.\n"
     ]
    }
   ],
   "source": [
    "print(f\"The value of cost function after minimization is {cost1(X,W,y, Lambda)}.\")"
   ]
  },
  {
   "cell_type": "markdown",
   "metadata": {},
   "source": [
    "### 3.5 Wavelet method"
   ]
  },
  {
   "cell_type": "code",
   "execution_count": 84,
   "metadata": {},
   "outputs": [],
   "source": [
    "# first two Haar wavelet functions\n",
    "\n",
    "def h_1(x):\n",
    "    if x <=1 and x>=0:\n",
    "        return 1\n",
    "    else:\n",
    "        return 0\n",
    "\n",
    "\n",
    "def h_2(x):\n",
    "    if x <0.5 and x>=0:\n",
    "        return 1\n",
    "    elif x > 0.5 and x<=1:\n",
    "        return -1\n",
    "    else:\n",
    "        return 0\n",
    "        \n",
    "# two first haar functions"
   ]
  },
  {
   "cell_type": "code",
   "execution_count": 85,
   "metadata": {},
   "outputs": [
    {
     "data": {
      "text/plain": [
       "Text(0.5, 1.0, 'The second Haar wavelet $h_{2}$')"
      ]
     },
     "execution_count": 85,
     "metadata": {},
     "output_type": "execute_result"
    },
    {
     "data": {
      "image/png": "[encoded data removed]",
      "text/plain": [
       "<Figure size 720x360 with 2 Axes>"
      ]
     },
     "metadata": {
      "needs_background": "light"
     },
     "output_type": "display_data"
    }
   ],
   "source": [
    "# the plot of h_1, h_2\n",
    "\n",
    "x2=np.linspace(-2,2, 100)\n",
    "H1=np.array([h_1(x) for x in x2])\n",
    "H2=np.array([h_2(x) for x in x2])\n",
    "\n",
    "fig,ax=plt.subplots(1,2, figsize=(10,5))\n",
    "ax[0].plot(x2,H1, color=\"r\")\n",
    "ax[0].set_title(\"The first Haar wavelet $h_{1}$\")\n",
    "\n",
    "ax[1].plot(x2,H2)\n",
    "ax[1].set_title(\"The second Haar wavelet $h_{2}$\")"
   ]
  },
  {
   "cell_type": "code",
   "execution_count": 86,
   "metadata": {},
   "outputs": [],
   "source": [
    "# Haar wavelet for matrix form\n",
    "\n",
    "def H(x):\n",
    "    for i in list(range(0,len(X1[:,0]),1)):\n",
    "        for j in list(range(0,len(X1[0,:]),1)):\n",
    "            if x[i,j]<=0.5:\n",
    "                x[i,j]= 1\n",
    "            else:\n",
    "                x[i,j]=-1\n",
    "    return x"
   ]
  },
  {
   "cell_type": "code",
   "execution_count": 87,
   "metadata": {},
   "outputs": [],
   "source": [
    "X2=H(X1)\n",
    "I=np.ones(303)\n",
    "X2=np.column_stack((I, X1))"
   ]
  },
  {
   "cell_type": "code",
   "execution_count": 88,
   "metadata": {},
   "outputs": [],
   "source": [
    "#sigmoid function\n",
    "def sigm2(X2):\n",
    "    return 1/(1+(np.exp(-X2)))"
   ]
  },
  {
   "cell_type": "code",
   "execution_count": 89,
   "metadata": {},
   "outputs": [],
   "source": [
    "def h2(X2,W2): #h_w for Haar wavelet method\n",
    "    return sigm2(X2@(W2.T))"
   ]
  },
  {
   "cell_type": "code",
   "execution_count": 90,
   "metadata": {},
   "outputs": [],
   "source": [
    "def cost2(X2,W2,y, Lambda2):     #cost function for Haar wavelet method\n",
    "    m = X2.shape[0]  \n",
    "    return ((1/m)*np.sum(-y*np.log(h2(X2,W2))-(1-y)*np.log(1-h2(X2,W2))))+ (Lambda2/2)*(W2@W2.T)"
   ]
  },
  {
   "cell_type": "code",
   "execution_count": 91,
   "metadata": {},
   "outputs": [],
   "source": [
    "def gradient2(X2, y, W2):   \n",
    "    # Computes the gradient of the cost function for Haar wavelet method\n",
    "    m = X2.shape[0]\n",
    "    return ((1 / m) * X2.T@(h2(X2,W2)- y))+Lambda2*W2"
   ]
  },
  {
   "cell_type": "code",
   "execution_count": 161,
   "metadata": {},
   "outputs": [],
   "source": [
    "l2=100  #the number of updates\n",
    "W2=np.zeros(X2.shape[1])  #start point for gradient descent\n",
    "alpha2=0.6  #learning rate\n",
    "Lambda2=0.7    # penalty term\n",
    "\n",
    "c2=np.zeros(l2)# c2, d2 are used for plotting the cost function\n",
    "d2=np.zeros(l2)\n",
    "\n",
    "for i in range(l2):\n",
    "    W2+=-alpha2*gradient2(X2, y, W2)\n",
    "    c2[i]=cost2(X2,W2,y, Lambda2)\n",
    "    d2[i]=i"
   ]
  },
  {
   "cell_type": "code",
   "execution_count": 162,
   "metadata": {},
   "outputs": [
    {
     "name": "stdout",
     "output_type": "stream",
     "text": [
      "Parameter vector W obtained by Haar Wavelet= [ 0.00480108  0.10519895  0.13233912 -0.1463808   0.03311142  0.06741444\n",
      "  0.00480108  0.01065642 -0.13291093  0.17304822  0.13617912 -0.15855502\n",
      "  0.130299   -0.02132941]\n"
     ]
    }
   ],
   "source": [
    "print(\"Parameter vector W obtained by Haar Wavelet=\", W2)"
   ]
  },
  {
   "cell_type": "code",
   "execution_count": 163,
   "metadata": {},
   "outputs": [
    {
     "name": "stdout",
     "output_type": "stream",
     "text": [
      "The value of gradient at obtained W is= [-8.23993651e-18  0.00000000e+00  1.38777878e-17  1.38777878e-17\n",
      " -1.38777878e-17 -6.93889390e-18 -8.23993651e-18 -9.54097912e-18\n",
      "  1.38777878e-17 -1.38777878e-17 -5.55111512e-17  0.00000000e+00\n",
      " -4.16333634e-17  6.93889390e-18]\n"
     ]
    }
   ],
   "source": [
    "print(\"The value of gradient at obtained W is=\",gradient2(X2, y, W2)) "
   ]
  },
  {
   "cell_type": "markdown",
   "metadata": {},
   "source": [
    "Almost zero!"
   ]
  },
  {
   "cell_type": "code",
   "execution_count": 164,
   "metadata": {},
   "outputs": [],
   "source": [
    "y_pred2=np.zeros(303)   #predict function\n",
    "for i in list(range(X2.shape[0])):\n",
    "    if h2(X2,W2)[i]>= 0.5:\n",
    "        y_pred2[i]=1\n",
    "    else:\n",
    "        y_pred2[i]=0\n",
    "\n",
    "def accuracy2(y_pred2):     #accuracy function\n",
    "    return np.mean(y==y_pred2)"
   ]
  },
  {
   "cell_type": "code",
   "execution_count": 165,
   "metadata": {},
   "outputs": [
    {
     "name": "stdout",
     "output_type": "stream",
     "text": [
      "The value of cost function after minimization is 0.5944774656860428.\n"
     ]
    }
   ],
   "source": [
    "print(f\"The value of cost function after minimization is {cost2(X2,W2,y, Lambda2)}.\")"
   ]
  },
  {
   "cell_type": "markdown",
   "metadata": {},
   "source": [
    "## 4. Conclusions"
   ]
  },
  {
   "cell_type": "markdown",
   "metadata": {},
   "source": [
    "In the following figures, the cost functions in both methods are plotted.\n",
    "As you can see in the Haar wavelet method, the cost function decreases very fast and gets to its minimum.\n",
    "This tells us that the Haar wavelet basis is much better than the polynomial basis to predict heart disease.\n",
    "The values of both cost functions after minimization also represent our claim."
   ]
  },
  {
   "cell_type": "code",
   "execution_count": 186,
   "metadata": {},
   "outputs": [
    {
     "data": {
      "image/png": "[encoded data removed]",
      "text/plain": [
       "<Figure size 1080x360 with 2 Axes>"
      ]
     },
     "metadata": {
      "needs_background": "light"
     },
     "output_type": "display_data"
    }
   ],
   "source": [
    "plt.figure(figsize=(15,5))\n",
    "plt.subplot(2,1,1)\n",
    "plt.plot(d[:5], c[:5], 'b')\n",
    "plt.title(\"Cost function in the first method\")\n",
    "plt.subplots_adjust(top = 1.3)\n",
    "plt.subplot(2,1,2)\n",
    "plt.plot(d2[:5],c2[:5], 'r')\n",
    "plt.title(\"Cost function in Haar wavelet method\")\n",
    "plt.show()"
   ]
  },
  {
   "cell_type": "code",
   "execution_count": null,
   "metadata": {},
   "outputs": [],
   "source": []
  }
 ],
 "metadata": {
  "kernelspec": {
   "display_name": "Python 3",
   "language": "python",
   "name": "python3"
  },
  "language_info": {
   "codemirror_mode": {
    "name": "ipython",
    "version": 3
   },
   "file_extension": ".py",
   "mimetype": "text/x-python",
   "name": "python",
   "nbconvert_exporter": "python",
   "pygments_lexer": "ipython3",
   "version": "3.7.3"
  }
 },
 "nbformat": 4,
 "nbformat_minor": 2
}
